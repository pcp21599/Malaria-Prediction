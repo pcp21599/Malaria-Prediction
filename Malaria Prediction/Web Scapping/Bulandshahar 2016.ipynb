{
 "cells": [
  {
   "cell_type": "code",
   "execution_count": 1,
   "metadata": {},
   "outputs": [],
   "source": [
    "import requests\n",
    "from bs4 import BeautifulSoup\n",
    "pages=[]\n",
    "for i in range(1,13):\n",
    "    url = \"https://www.timeanddate.com/weather/india/bulandshahr/historic?month=\"+str(i)+\"&year=2016\"\n",
    "    pages.append(url)\n",
    "Month =[\"January\",\"Febuary\",\"March\",\"April\",\"May\",\"June\",\"July\",\"August\",\"September\",\"October\",\"November\",\"December\"]\n",
    "Maximum=[]\n",
    "Minimum=[]\n",
    "Humidity1=[]\n",
    "for pager in pages:\n",
    "    page = requests.get(pager)\n",
    "    soup = BeautifulSoup(page.content,\"html.parser\")\n",
    "    Table = soup.find(\"table\",class_=\"zebra tb-wt fw tb-hover\")\n",
    "    High=Table.find(\"tr\",\"c0\")\n",
    "    Max = int(High.find(\"td\").text.split()[0])\n",
    "    Low = Table.find(\"tr\",class_=\"c1\")\n",
    "    Min = int(Low.find(\"td\").text.split()[0])\n",
    "    Humidity = Table.find(\"tr\",class_=\"sep-t\")\n",
    "    Av_Humidity = int(Humidity.find(\"td\",class_=\"sep\").text.split(\"%\")[0])\n",
    "    Maximum.append(Max)\n",
    "    Minimum.append(Min)\n",
    "    Humidity1.append(Av_Humidity)"
   ]
  },
  {
   "cell_type": "code",
   "execution_count": 2,
   "metadata": {},
   "outputs": [],
   "source": [
    "import pandas as pd\n",
    "more_data=pd.read_csv(\"New Training Data\\Bulandshahar 2016.csv\")\n",
    "Data2=pd.DataFrame(more_data)\n",
    "Rain=Data2[\"Rainfall\"]\n",
    "Total=Data2[\"Total Cases\"]\n",
    "pf=Data2[\"PF Cases\"]\n",
    "Data={\"Month\":Month,\"Maximum_Temperature\":Maximum,\"Minimum_Temperature\":Minimum,\n",
    "      \"Average_Humidity\":Humidity1,\"Rainfall\":Rain,\"Total_Case\":Total,\"Pf_Positive\":pf}\n",
    "df=pd.DataFrame(Data)\n",
    "df.to_csv(\"Import\\Bulandshahar 2016.csv\",mode=\"w\")\n"
   ]
  },
  {
   "cell_type": "code",
   "execution_count": null,
   "metadata": {},
   "outputs": [],
   "source": []
  }
 ],
 "metadata": {
  "kernelspec": {
   "display_name": "Python 3",
   "language": "python",
   "name": "python3"
  },
  "language_info": {
   "codemirror_mode": {
    "name": "ipython",
    "version": 3
   },
   "file_extension": ".py",
   "mimetype": "text/x-python",
   "name": "python",
   "nbconvert_exporter": "python",
   "pygments_lexer": "ipython3",
   "version": "3.6.8"
  }
 },
 "nbformat": 4,
 "nbformat_minor": 2
}
